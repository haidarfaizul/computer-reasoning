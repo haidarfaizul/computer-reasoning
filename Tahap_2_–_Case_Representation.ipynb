{
  "nbformat": 4,
  "nbformat_minor": 0,
  "metadata": {
    "colab": {
      "provenance": []
    },
    "kernelspec": {
      "name": "python3",
      "display_name": "Python 3"
    },
    "language_info": {
      "name": "python"
    }
  },
  "cells": [
    {
      "cell_type": "code",
      "source": [
        "from google.colab import drive\n",
        "drive.mount('/content/drive')"
      ],
      "metadata": {
        "id": "0Fut1Pkieqsr",
        "colab": {
          "base_uri": "https://localhost:8080/"
        },
        "outputId": "8fe18b7e-1964-436f-c992-f80be45e8dd3"
      },
      "execution_count": null,
      "outputs": [
        {
          "output_type": "stream",
          "name": "stdout",
          "text": [
            "Mounted at /content/drive\n"
          ]
        }
      ]
    },
    {
      "cell_type": "markdown",
      "source": [
        "# Ekstraksi Metadata"
      ],
      "metadata": {
        "id": "e9-i01HVeqdC"
      }
    },
    {
      "cell_type": "code",
      "source": [
        "from pathlib import Path\n",
        "import re\n",
        "import pandas as pd\n",
        "\n",
        "# Konfigurasi direktori\n",
        "input_dir = Path('/content/drive/MyDrive/Tugasbesar/data_clean/raw')\n",
        "output_path = Path('/content/drive/MyDrive/Tugasbesar/data/processed/metadata_only.csv')\n",
        "output_path.parent.mkdir(parents=True, exist_ok=True)\n",
        "\n",
        "# Fungsi untuk mendapatkan metadata\n",
        "def get_document_metadata(content):\n",
        "    # Ekstraksi nomor kasus\n",
        "    case_number = re.search(r'(nomor|no)[\\s:]*([^\\n;,]*)', content, re.I)\n",
        "    case_number = case_number.group(2).strip() if case_number else ''\n",
        "\n",
        "    # Ekstraksi tanggal\n",
        "    date_match = re.search(r'(\\d{1,2}\\s+\\w+\\s+\\d{4})', content)\n",
        "    document_date = date_match.group(1) if date_match else ''\n",
        "\n",
        "    # Klasifikasi jenis kasus\n",
        "    case_type = ''\n",
        "    if 'pidana' in content.lower():\n",
        "        case_type = 'Pidana'\n",
        "    elif 'perdata' in content.lower():\n",
        "        case_type = 'Perdata'\n",
        "\n",
        "    # Ekstraksi pasal yang relevan\n",
        "    articles = re.findall(r'pasal[\\s:]+(\\d+[a-z]*)', content, re.I)\n",
        "    unique_articles = ', '.join(sorted(set(articles))) if articles else ''\n",
        "\n",
        "    # Identifikasi pihak yang terlibat\n",
        "    parties = ''\n",
        "    party_match = re.search(r'antara\\s+(.*?)\\s+melawan\\s+(.*?)[\\.,\\n]', content, re.I)\n",
        "    if party_match:\n",
        "        parties = f\"{party_match.group(1).strip()} vs {party_match.group(2).strip()}\"\n",
        "\n",
        "    return case_number, document_date, case_type, unique_articles, parties\n",
        "\n",
        "# Proses ekstraksi metadata\n",
        "case_records = []\n",
        "\n",
        "for idx, file in enumerate(sorted(input_dir.glob('*.txt')), 1):\n",
        "    with open(file, 'r', encoding='utf-8') as f:\n",
        "        document_text = f.read()\n",
        "\n",
        "    metadata = get_document_metadata(document_text)\n",
        "\n",
        "    case_records.append({\n",
        "        'case_id': idx,\n",
        "        'case_number': metadata[0],\n",
        "        'date': metadata[1],\n",
        "        'case_type': metadata[2],\n",
        "        'articles': metadata[3],\n",
        "        'parties': metadata[4],\n",
        "        'full_text': document_text\n",
        "    })\n",
        "\n",
        "# Simpan hasil ekstraksi\n",
        "metadata_df = pd.DataFrame(case_records)\n",
        "metadata_df.to_csv(output_path, index=False)\n",
        "print(f'✔ Metadata berhasil disimpan di: {output_path}')"
      ],
      "metadata": {
        "id": "wcLvKbajfFz5",
        "colab": {
          "base_uri": "https://localhost:8080/"
        },
        "outputId": "08306f8f-d514-4efc-89ef-9bf0cbbfc06e"
      },
      "execution_count": null,
      "outputs": [
        {
          "output_type": "stream",
          "name": "stdout",
          "text": [
            "✔ Metadata berhasil disimpan di: /content/drive/MyDrive/Tugasbesar/data/processed/metadata_only.csv\n"
          ]
        }
      ]
    },
    {
      "cell_type": "markdown",
      "source": [
        "# Ekstraksi Konten Kunci"
      ],
      "metadata": {
        "id": "xiILq_3wf4bO"
      }
    },
    {
      "cell_type": "code",
      "source": [
        "import pandas as pd\n",
        "import re\n",
        "from pathlib import Path\n",
        "\n",
        "# Konfigurasi file\n",
        "input_file = Path('/content/drive/MyDrive/Tugasbesar/data/processed/metadata_only.csv')\n",
        "output_file = Path('/content/drive/MyDrive/Tugasbesar/data/processed/cases.csv')\n",
        "output_file.parent.mkdir(parents=True, exist_ok=True)\n",
        "\n",
        "# Baca dataset\n",
        "cases_data = pd.read_csv(input_file)\n",
        "\n",
        "# Fungsi ekstraksi fakta kasus\n",
        "def get_case_facts(content):\n",
        "    facts_pattern = r'menimbang\\s+bahwa\\s+(.{50,1000}?)\\.'\n",
        "    facts_match = re.search(facts_pattern, content, re.I)\n",
        "    if facts_match:\n",
        "        return facts_match.group(1).strip()\n",
        "\n",
        "    alt_pattern = r'bahwa\\s+(.{50,1000}?)\\.'\n",
        "    alt_match = re.search(alt_pattern, content, re.I)\n",
        "    return alt_match.group(1).strip() if alt_match else ''\n",
        "\n",
        "# Fungsi ekstraksi dasar hukum\n",
        "def get_legal_arguments(content):\n",
        "    decision_pattern = r'memutuskan\\s+(.{50,1000}?)\\.'\n",
        "    decision_match = re.search(decision_pattern, content, re.I)\n",
        "    if decision_match:\n",
        "        return decision_match.group(1).strip()\n",
        "\n",
        "    article_pattern = r'dasarkan\\s+pasal\\s+(.{20,500}?)\\.'\n",
        "    article_match = re.search(article_pattern, content, re.I)\n",
        "    if article_match:\n",
        "        return article_match.group(1).strip()\n",
        "\n",
        "    statement_pattern = r'menyatakan\\s+(.{50,1000}?)\\.'\n",
        "    statement_match = re.search(statement_pattern, content, re.I)\n",
        "    return statement_match.group(1).strip() if statement_match else ''\n",
        "\n",
        "# Tambahkan kolom baru\n",
        "cases_data['case_summary'] = cases_data['full_text'].fillna('').apply(get_case_facts)\n",
        "cases_data['legal_basis'] = cases_data['full_text'].fillna('').apply(get_legal_arguments)\n",
        "\n",
        "# Simpan hasil\n",
        "cases_data.to_csv(output_file, index=False)\n",
        "print(f'✔ Ekstraksi konten penting selesai. File tersimpan di:\\n{output_file}')\n"
      ],
      "metadata": {
        "colab": {
          "base_uri": "https://localhost:8080/"
        },
        "id": "VnRaRZbCfbD3",
        "outputId": "139741ec-42aa-4b25-8187-f5a8d0cf7c12"
      },
      "execution_count": null,
      "outputs": [
        {
          "output_type": "stream",
          "name": "stdout",
          "text": [
            "✔ Ekstraksi konten penting selesai. File tersimpan di:\n",
            "/content/drive/MyDrive/Tugasbesar/data/processed/cases.csv\n"
          ]
        }
      ]
    },
    {
      "cell_type": "markdown",
      "source": [
        "# Feature Engineering"
      ],
      "metadata": {
        "id": "sEyn4F-zjiMG"
      }
    },
    {
      "cell_type": "code",
      "source": [
        "import pandas as pd\n",
        "import re\n",
        "from pathlib import Path\n",
        "\n",
        "# Konfigurasi path\n",
        "source_file = Path('/content/drive/MyDrive/Tugasbesar/data/processed/cases.csv')\n",
        "result_file = Path('/content/drive/MyDrive/Tugasbesar/data/processed/cases_features.csv')\n",
        "result_file.parent.mkdir(parents=True, exist_ok=True)\n",
        "\n",
        "# Baca data\n",
        "legal_cases = pd.read_csv(source_file)\n",
        "\n",
        "# Fitur 1: Ukuran dokumen\n",
        "legal_cases['word_count'] = legal_cases['full_text'].fillna('').apply(lambda x: len(x.split()))\n",
        "\n",
        "# Fitur 2: Kata kunci penting\n",
        "important_terms = [\n",
        "    'wanprestasi', 'gugatan', 'penggugat', 'tergugat',\n",
        "    'putusan', 'perjanjian', 'pidana', 'narkotika', 'cerai'\n",
        "]\n",
        "\n",
        "def find_important_terms(text):\n",
        "    text = text.lower()\n",
        "    matched = [term for term in important_terms if term in text]\n",
        "    return '|'.join(matched)\n",
        "\n",
        "legal_cases['key_terms'] = legal_cases['full_text'].fillna('').apply(find_important_terms)\n",
        "\n",
        "# Fitur 3: Pola tanya-jawab\n",
        "def count_qa_patterns(text):\n",
        "    qa_patterns = r'\\b(apa|siapa|mengapa|bagaimana|karena|maka|oleh karena)\\b'\n",
        "    return len(re.findall(qa_patterns, text.lower()))\n",
        "\n",
        "legal_cases['qa_patterns'] = legal_cases['full_text'].fillna('').apply(count_qa_patterns)\n",
        "\n",
        "# Simpan hasil\n",
        "legal_cases.to_csv(result_file, index=False)\n",
        "print(f'✔ Proses pembuatan fitur selesai.\\nFile hasil disimpan di: {result_file}')"
      ],
      "metadata": {
        "colab": {
          "base_uri": "https://localhost:8080/"
        },
        "id": "a5LhJjRpje1L",
        "outputId": "f7ad69d5-e325-4031-88d6-5cf5b96c7103"
      },
      "execution_count": null,
      "outputs": [
        {
          "output_type": "stream",
          "name": "stdout",
          "text": [
            "✔ Proses pembuatan fitur selesai.\n",
            "File hasil disimpan di: /content/drive/MyDrive/Tugasbesar/data/processed/cases_features.csv\n"
          ]
        }
      ]
    }
  ]
}